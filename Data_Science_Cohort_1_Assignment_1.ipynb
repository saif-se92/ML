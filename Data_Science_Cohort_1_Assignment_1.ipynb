{
 "cells": [
  {
   "cell_type": "markdown",
   "metadata": {},
   "source": [
    "<hr style=\"border:5px solid #002060\"> </hr>"
   ]
  },
  {
   "cell_type": "markdown",
   "metadata": {},
   "source": [
    "# pandas Fundamentals <hr style=\"border:4.5px solid #002060\"> </hr>"
   ]
  },
  {
   "cell_type": "markdown",
   "metadata": {},
   "source": [
    "## Introduction to pandas Series"
   ]
  },
  {
   "cell_type": "markdown",
   "metadata": {},
   "source": [
    "Import the 'pandas' library to load it into the computer's memory, so that you can work with it in this Notebook Document.\n",
    "\n",
    "<br/> *Note: Don't forget to use the widely-accepted convention as well.*\n",
    "\n",
    "<br/> Remember that no matter how many times you execute this code cell, the library will be imported only once in this Document, and it will remain active."
   ]
  },
  {
   "cell_type": "code",
   "execution_count": 1,
   "metadata": {},
   "outputs": [],
   "source": [
    "import pandas as pd"
   ]
  },
  {
   "cell_type": "markdown",
   "metadata": {},
   "source": [
    "Create the **employee_names** list."
   ]
  },
  {
   "cell_type": "code",
   "execution_count": 2,
   "metadata": {},
   "outputs": [
    {
     "data": {
      "text/plain": [
       "['Amy White', 'Jack Stewart', 'Richard Lauderdale', 'Sara Johnson']"
      ]
     },
     "execution_count": 2,
     "metadata": {},
     "output_type": "execute_result"
    }
   ],
   "source": [
    "employee_names = ['Amy White', 'Jack Stewart', 'Richard Lauderdale', 'Sara Johnson']\n",
    "employee_names"
   ]
  },
  {
   "cell_type": "markdown",
   "metadata": {},
   "source": [
    "Verify the **employee_names** object is a list."
   ]
  },
  {
   "cell_type": "code",
   "execution_count": 3,
   "metadata": {},
   "outputs": [
    {
     "data": {
      "text/plain": [
       "list"
      ]
     },
     "execution_count": 3,
     "metadata": {},
     "output_type": "execute_result"
    }
   ],
   "source": [
    "type(employee_names)"
   ]
  },
  {
   "cell_type": "markdown",
   "metadata": {},
   "source": [
    "Create a pandas Series object containing the elements from the **employee_names** list. Call it **employee_names_Series**."
   ]
  },
  {
   "cell_type": "code",
   "execution_count": 5,
   "metadata": {},
   "outputs": [],
   "source": [
    "employee_names_Series=pd.Series(employee_names)"
   ]
  },
  {
   "cell_type": "markdown",
   "metadata": {},
   "source": [
    "Confirm the object is of the Series type."
   ]
  },
  {
   "cell_type": "code",
   "execution_count": 6,
   "metadata": {},
   "outputs": [
    {
     "data": {
      "text/plain": [
       "pandas.core.series.Series"
      ]
     },
     "execution_count": 6,
     "metadata": {},
     "output_type": "execute_result"
    }
   ],
   "source": [
    "type(employee_names_Series)"
   ]
  },
  {
   "cell_type": "markdown",
   "metadata": {},
   "source": [
    "Now, create a Series object directly. That is, not from an existing list, but by using the following structure:\n",
    "**pd.Series([...])**\n",
    "<br/>Let the elements of the Series object be the following numbers: 5, 8, 3, and 10. Name the object **work_experience_yrs.**\n"
   ]
  },
  {
   "cell_type": "markdown",
   "metadata": {},
   "source": [
    "Import the 'NumPy' package to load it into the computer's memory, so that you can work with it in this Notebook Document."
   ]
  },
  {
   "cell_type": "markdown",
   "metadata": {},
   "source": [
    "*Note: Don't forget to use the widely-accepted convention as well.*"
   ]
  },
  {
   "cell_type": "code",
   "execution_count": 7,
   "metadata": {},
   "outputs": [],
   "source": [
    "import numpy as np"
   ]
  },
  {
   "cell_type": "markdown",
   "metadata": {},
   "source": [
    "Execute the code cell below to create the **array_1** NumPy array object."
   ]
  },
  {
   "cell_type": "code",
   "execution_count": 8,
   "metadata": {},
   "outputs": [
    {
     "data": {
      "text/plain": [
       "array([50, 53, 35, 43])"
      ]
     },
     "execution_count": 8,
     "metadata": {},
     "output_type": "execute_result"
    }
   ],
   "source": [
    "array_age = np.array([50, 53, 35, 43])\n",
    "array_age"
   ]
  },
  {
   "cell_type": "markdown",
   "metadata": {},
   "source": [
    "Verify the type of the **array_age** object:"
   ]
  },
  {
   "cell_type": "code",
   "execution_count": 9,
   "metadata": {},
   "outputs": [
    {
     "data": {
      "text/plain": [
       "numpy.ndarray"
      ]
     },
     "execution_count": 9,
     "metadata": {},
     "output_type": "execute_result"
    }
   ],
   "source": [
    "type(array_age)"
   ]
  },
  {
   "cell_type": "markdown",
   "metadata": {},
   "source": [
    "Create a Series object called **series_age** from the NumPy array object **array_age** you just created."
   ]
  },
  {
   "cell_type": "code",
   "execution_count": 10,
   "metadata": {},
   "outputs": [],
   "source": [
    "series_age=pd.Series([array_age])"
   ]
  },
  {
   "cell_type": "markdown",
   "metadata": {},
   "source": [
    "Check the type of the newly created object."
   ]
  },
  {
   "cell_type": "code",
   "execution_count": 11,
   "metadata": {},
   "outputs": [
    {
     "data": {
      "text/plain": [
       "pandas.core.series.Series"
      ]
     },
     "execution_count": 11,
     "metadata": {},
     "output_type": "execute_result"
    }
   ],
   "source": [
    "type(series_age)"
   ]
  },
  {
   "cell_type": "markdown",
   "metadata": {},
   "source": [
    "Use the *print()* function to display the content of **series_age**."
   ]
  },
  {
   "cell_type": "code",
   "execution_count": 12,
   "metadata": {},
   "outputs": [
    {
     "name": "stdout",
     "output_type": "stream",
     "text": [
      "0    [50, 53, 35, 43]\n",
      "dtype: object\n"
     ]
    }
   ],
   "source": [
    "print(series_age)"
   ]
  },
  {
   "cell_type": "markdown",
   "metadata": {},
   "source": [
    "## Working with Methods in Python"
   ]
  },
  {
   "cell_type": "markdown",
   "metadata": {},
   "source": [
    "Consider the following Series object."
   ]
  },
  {
   "cell_type": "code",
   "execution_count": 13,
   "metadata": {},
   "outputs": [],
   "source": [
    "employees_work_exp = pd.Series({\n",
    "'Amy White'   : 3,\n",
    "'Jack Stewart'   : 5,\n",
    "'Richard Lauderdale'  : 4.5,\n",
    "'Sara Johnson'  : 22,\n",
    "'Patrick Adams' : 28,\n",
    "'Jessica Baker'  : 14,\n",
    "'Peter Hunt'   : 4,\n",
    "'Daniel Lloyd'  : 6,\n",
    "'John Owen'   : 1.5,\n",
    "'Jennifer Phillips'  : 10,\n",
    "'Courtney Rogers'   : 4.5,\n",
    "'Anne Robinson'  : 2,\n",
    "})"
   ]
  },
  {
   "cell_type": "markdown",
   "metadata": {},
   "source": [
    "Use a certain method to extract the top five values from this Series."
   ]
  },
  {
   "cell_type": "code",
   "execution_count": 14,
   "metadata": {},
   "outputs": [
    {
     "data": {
      "text/plain": [
       "Amy White              3.0\n",
       "Jack Stewart           5.0\n",
       "Richard Lauderdale     4.5\n",
       "Sara Johnson          22.0\n",
       "Patrick Adams         28.0\n",
       "dtype: float64"
      ]
     },
     "execution_count": 14,
     "metadata": {},
     "output_type": "execute_result"
    }
   ],
   "source": [
    "employees_work_exp.head(5)"
   ]
  },
  {
   "cell_type": "markdown",
   "metadata": {},
   "source": [
    "Use another method to extract the last few rows of **employees_work_exp**."
   ]
  },
  {
   "cell_type": "code",
   "execution_count": 16,
   "metadata": {},
   "outputs": [
    {
     "data": {
      "text/plain": [
       "Daniel Lloyd          6.0\n",
       "John Owen             1.5\n",
       "Jennifer Phillips    10.0\n",
       "Courtney Rogers       4.5\n",
       "Anne Robinson         2.0\n",
       "dtype: float64"
      ]
     },
     "execution_count": 16,
     "metadata": {},
     "output_type": "execute_result"
    }
   ],
   "source": [
    "employees_work_exp.tail()"
   ]
  },
  {
   "cell_type": "markdown",
   "metadata": {},
   "source": [
    "## Using .unique() and .nunique()"
   ]
  },
  {
   "cell_type": "markdown",
   "metadata": {},
   "source": [
    "Load the \"Region.csv\" file and use the .squeeze() method to convert it into a series. Store the information in a variable called **region_data**. Preview the data with the pandas *.head()* method."
   ]
  },
  {
   "cell_type": "code",
   "execution_count": 17,
   "metadata": {},
   "outputs": [
    {
     "data": {
      "text/plain": [
       "0    Region 2\n",
       "1    Region 6\n",
       "2    Region 3\n",
       "3    Region 2\n",
       "4    Region 3\n",
       "Name: Region, dtype: object"
      ]
     },
     "execution_count": 17,
     "metadata": {},
     "output_type": "execute_result"
    }
   ],
   "source": [
    "region_data = pd.read_csv('Region.csv').squeeze()\n",
    "region_data.head()"
   ]
  },
  {
   "cell_type": "markdown",
   "metadata": {},
   "source": [
    "Verify that **region_data** is a Series object."
   ]
  },
  {
   "cell_type": "code",
   "execution_count": 18,
   "metadata": {
    "collapsed": true,
    "jupyter": {
     "outputs_hidden": true
    }
   },
   "outputs": [
    {
     "data": {
      "text/plain": [
       "pandas.core.series.Series"
      ]
     },
     "execution_count": 18,
     "metadata": {},
     "output_type": "execute_result"
    }
   ],
   "source": [
    "type(region_data)"
   ]
  },
  {
   "cell_type": "markdown",
   "metadata": {},
   "source": [
    "Use the *.describe()* method to obtain descriptive statistics on the **region_data** Series.\n",
    "<br>Think of how many unique values there are in the data set. \n",
    "<br>*Please note that the statistics provided in the output exclude missing data.*"
   ]
  },
  {
   "cell_type": "code",
   "execution_count": 19,
   "metadata": {
    "collapsed": true,
    "jupyter": {
     "outputs_hidden": true
    }
   },
   "outputs": [
    {
     "data": {
      "text/plain": [
       "count         1042\n",
       "unique          18\n",
       "top       Region 6\n",
       "freq           326\n",
       "Name: Region, dtype: object"
      ]
     },
     "execution_count": 19,
     "metadata": {},
     "output_type": "execute_result"
    }
   ],
   "source": [
    "region_data.describe()"
   ]
  },
  {
   "cell_type": "markdown",
   "metadata": {},
   "source": [
    "You can obtain some of the values from the previous output by using Python built-in functions or methods. Please extract the total number of values from the **region_data** Series, then the number of unique values. Finally, obtain a list containing all unique values from this Series."
   ]
  },
  {
   "cell_type": "code",
   "execution_count": 21,
   "metadata": {},
   "outputs": [
    {
     "name": "stdout",
     "output_type": "stream",
     "text": [
      "Total number of values: 1042\n",
      "Number of unique values: 18\n",
      "List of unique values: ['Region 2', 'Region 6', 'Region 3', 'Region 1', 'Region 5', 'Region 9', 'Region 7', 'Region 4', 'Region 12', 'Region 16', 'Region 8', 'Region 10', 'Region 13', 'Region 15', 'Region 11', 'Region 14', 'Region 17', 'Region 18']\n"
     ]
    }
   ],
   "source": [
    "total_values = region_data.count()\n",
    "\n",
    "# 2. Number of unique values\n",
    "unique_count = region_data.nunique()\n",
    "\n",
    "# 3. List of unique values\n",
    "unique_values_list = region_data.unique().tolist()\n",
    "\n",
    "print(\"Total number of values:\", total_values)\n",
    "print(\"Number of unique values:\", unique_count)\n",
    "print(\"List of unique values:\", unique_values_list)"
   ]
  },
  {
   "cell_type": "markdown",
   "metadata": {},
   "source": [
    "## Using .sort_values()"
   ]
  },
  {
   "cell_type": "markdown",
   "metadata": {},
   "source": [
    "Sort the values without specifying any arguments."
   ]
  },
  {
   "cell_type": "markdown",
   "metadata": {},
   "source": [
    "*Please note that the numbers go from 1 to 18, but we are currently ordering the values as labels, not integers. 1 is succeeded by 10, then 11, and so on until 18. Then we have 2, 3, 4, etc., until 8, and eventually - 9.*"
   ]
  },
  {
   "cell_type": "code",
   "execution_count": 22,
   "metadata": {},
   "outputs": [
    {
     "data": {
      "text/plain": [
       "462    Region 1\n",
       "347    Region 1\n",
       "609    Region 1\n",
       "610    Region 1\n",
       "339    Region 1\n",
       "         ...   \n",
       "536    Region 9\n",
       "450    Region 9\n",
       "8      Region 9\n",
       "842    Region 9\n",
       "940    Region 9\n",
       "Name: Region, Length: 1042, dtype: object"
      ]
     },
     "execution_count": 22,
     "metadata": {},
     "output_type": "execute_result"
    }
   ],
   "source": [
    "region_data.sort_values()"
   ]
  },
  {
   "cell_type": "markdown",
   "metadata": {},
   "source": [
    "Sort the values, setting the *ascending* parameter equal to *True*."
   ]
  },
  {
   "cell_type": "code",
   "execution_count": 23,
   "metadata": {},
   "outputs": [
    {
     "data": {
      "text/plain": [
       "462    Region 1\n",
       "347    Region 1\n",
       "609    Region 1\n",
       "610    Region 1\n",
       "339    Region 1\n",
       "         ...   \n",
       "536    Region 9\n",
       "450    Region 9\n",
       "8      Region 9\n",
       "842    Region 9\n",
       "940    Region 9\n",
       "Name: Region, Length: 1042, dtype: object"
      ]
     },
     "execution_count": 23,
     "metadata": {},
     "output_type": "execute_result"
    }
   ],
   "source": [
    "region_data.sort_values(ascending=True)"
   ]
  },
  {
   "cell_type": "markdown",
   "metadata": {},
   "source": [
    "Sort the values in **region_data** in descending order."
   ]
  },
  {
   "cell_type": "code",
   "execution_count": 24,
   "metadata": {},
   "outputs": [
    {
     "data": {
      "text/plain": [
       "450    Region 9\n",
       "842    Region 9\n",
       "141    Region 9\n",
       "940    Region 9\n",
       "8      Region 9\n",
       "         ...   \n",
       "569    Region 1\n",
       "892    Region 1\n",
       "558    Region 1\n",
       "557    Region 1\n",
       "309    Region 1\n",
       "Name: Region, Length: 1042, dtype: object"
      ]
     },
     "execution_count": 24,
     "metadata": {},
     "output_type": "execute_result"
    }
   ],
   "source": [
    "region_data.sort_values(ascending=False)"
   ]
  },
  {
   "cell_type": "markdown",
   "metadata": {},
   "source": [
    "## Introduction to pandas DataFrames"
   ]
  },
  {
   "cell_type": "markdown",
   "metadata": {},
   "source": [
    "Import the pandas and numpy libraries by using the relevant well-known conventions."
   ]
  },
  {
   "cell_type": "code",
   "execution_count": 25,
   "metadata": {},
   "outputs": [],
   "source": [
    "import pandas as pd\n",
    "import numpy as np"
   ]
  },
  {
   "cell_type": "markdown",
   "metadata": {},
   "source": [
    "The goal of this exercise is to solidify your knowledge and understanding of the fundamentals of using pandas DataFrames."
   ]
  },
  {
   "cell_type": "markdown",
   "metadata": {},
   "source": [
    "Execute the next code cell to create the array called **array_c**."
   ]
  },
  {
   "cell_type": "code",
   "execution_count": 26,
   "metadata": {},
   "outputs": [
    {
     "data": {
      "text/plain": [
       "array([[1000.  ,   50.  ,   78.45],\n",
       "       [ 700.  ,  112.  ,   35.5 ]])"
      ]
     },
     "execution_count": 26,
     "metadata": {},
     "output_type": "execute_result"
    }
   ],
   "source": [
    "array_c = np.array([[1000, 50, 78.45], [700, 112, 35.5]])\n",
    "array_c"
   ]
  },
  {
   "cell_type": "markdown",
   "metadata": {},
   "source": [
    "Convert **array_c** into a DataFrame, called **company_statistics**. Assign the column names and row labels from the following lists as column names and index of this DataFrame, respectively. "
   ]
  },
  {
   "cell_type": "code",
   "execution_count": null,
   "metadata": {},
   "outputs": [],
   "source": [
    "# column names\n",
    "['No. of Employees', 'Avg. Annual Revenue ($)', 'Share price ($)']"
   ]
  },
  {
   "cell_type": "code",
   "execution_count": null,
   "metadata": {},
   "outputs": [],
   "source": [
    "# row labels\n",
    "['Company A', 'Company B']"
   ]
  },
  {
   "cell_type": "code",
   "execution_count": 27,
   "metadata": {},
   "outputs": [],
   "source": [
    "company_statistics=pd.DataFrame(array_c,columns=['No. of Employees', 'Avg. Annual Revenue ($)', 'Share price ($)'],index=['Company A', 'Company B'])"
   ]
  },
  {
   "cell_type": "markdown",
   "metadata": {},
   "source": [
    "Display the **company_statistics** DataFrame."
   ]
  },
  {
   "cell_type": "code",
   "execution_count": 28,
   "metadata": {},
   "outputs": [
    {
     "data": {
      "text/html": [
       "<div>\n",
       "<style scoped>\n",
       "    .dataframe tbody tr th:only-of-type {\n",
       "        vertical-align: middle;\n",
       "    }\n",
       "\n",
       "    .dataframe tbody tr th {\n",
       "        vertical-align: top;\n",
       "    }\n",
       "\n",
       "    .dataframe thead th {\n",
       "        text-align: right;\n",
       "    }\n",
       "</style>\n",
       "<table border=\"1\" class=\"dataframe\">\n",
       "  <thead>\n",
       "    <tr style=\"text-align: right;\">\n",
       "      <th></th>\n",
       "      <th>No. of Employees</th>\n",
       "      <th>Avg. Annual Revenue ($)</th>\n",
       "      <th>Share price ($)</th>\n",
       "    </tr>\n",
       "  </thead>\n",
       "  <tbody>\n",
       "    <tr>\n",
       "      <th>Company A</th>\n",
       "      <td>1000.0</td>\n",
       "      <td>50.0</td>\n",
       "      <td>78.45</td>\n",
       "    </tr>\n",
       "    <tr>\n",
       "      <th>Company B</th>\n",
       "      <td>700.0</td>\n",
       "      <td>112.0</td>\n",
       "      <td>35.50</td>\n",
       "    </tr>\n",
       "  </tbody>\n",
       "</table>\n",
       "</div>"
      ],
      "text/plain": [
       "           No. of Employees  Avg. Annual Revenue ($)  Share price ($)\n",
       "Company A            1000.0                     50.0            78.45\n",
       "Company B             700.0                    112.0            35.50"
      ]
     },
     "execution_count": 28,
     "metadata": {},
     "output_type": "execute_result"
    }
   ],
   "source": [
    "company_statistics"
   ]
  },
  {
   "cell_type": "markdown",
   "metadata": {},
   "source": [
    "Import the *Sales-products.csv* dataset into a DataFrame object called **sales_products_data**."
   ]
  },
  {
   "cell_type": "markdown",
   "metadata": {},
   "source": [
    "*Note: Please use the default index provided for this DataFrame throughout this exercise.*"
   ]
  },
  {
   "cell_type": "code",
   "execution_count": 29,
   "metadata": {},
   "outputs": [],
   "source": [
    "sales_products_data=pd.read_csv(\"Sales-products.csv\")"
   ]
  },
  {
   "cell_type": "markdown",
   "metadata": {},
   "source": [
    "Verify that the obtained object is a pandas DataFrame."
   ]
  },
  {
   "cell_type": "code",
   "execution_count": 30,
   "metadata": {},
   "outputs": [
    {
     "data": {
      "text/plain": [
       "pandas.core.frame.DataFrame"
      ]
     },
     "execution_count": 30,
     "metadata": {},
     "output_type": "execute_result"
    }
   ],
   "source": [
    "type(sales_products_data)"
   ]
  },
  {
   "cell_type": "markdown",
   "metadata": {},
   "source": [
    "Try out a well-known pandas method used for Series on this DataFrame to obtain its last five rows. "
   ]
  },
  {
   "cell_type": "code",
   "execution_count": 32,
   "metadata": {},
   "outputs": [
    {
     "name": "stdout",
     "output_type": "stream",
     "text": [
      "           SaleID RetailerCountry  OrderMethod   RetailerType  \\\n",
      "1271  SaleID_1272           Spain  Sales visit  Outdoors Shop   \n",
      "1272  SaleID_1273           Spain  Sales visit  Outdoors Shop   \n",
      "1273  SaleID_1274           Spain  Sales visit  Outdoors Shop   \n",
      "1274  SaleID_1275           Spain  Sales visit  Outdoors Shop   \n",
      "1275  SaleID_1276           Spain  Sales visit  Outdoors Shop   \n",
      "\n",
      "               ProductLine           ProductType                Product  \\\n",
      "1271  Personal Accessories                  Rope          Husky Rope 60   \n",
      "1272    Outdoor Protection  Climbing Accessories  Firefly Climbing Lamp   \n",
      "1273  Personal Accessories  Climbing Accessories        Firefly Charger   \n",
      "1274  Personal Accessories                 Tools            Granite Axe   \n",
      "1275     Camping Equipment                 Tools        Granite Extreme   \n",
      "\n",
      "        Year  Quarter   Revenue  Quantity  GrossMargin  \n",
      "1271  2020.0  Q3 2020  30916.50     173.0     0.298114  \n",
      "1272  2020.0  Q3 2020   7536.29     193.0     0.445287  \n",
      "1273  2020.0  Q3 2020  12306.48     238.0     0.568420  \n",
      "1274  2020.0  Q3 2020  56499.00    1472.0     0.490667  \n",
      "1275  2020.0  Q3 2020  89427.00    1178.0     0.386895  \n"
     ]
    }
   ],
   "source": [
    "last_five_rows=sales_products_data.tail(5)\n",
    "print(last_five_rows)"
   ]
  },
  {
   "cell_type": "code",
   "execution_count": null,
   "metadata": {},
   "outputs": [],
   "source": []
  },
  {
   "cell_type": "markdown",
   "metadata": {},
   "source": [
    "## pandas DataFrames - Common Attributes "
   ]
  },
  {
   "cell_type": "markdown",
   "metadata": {},
   "source": [
    "Import the *Sales-products.csv* dataset into a DataFrame object called **sales_products_data**."
   ]
  },
  {
   "cell_type": "markdown",
   "metadata": {},
   "source": [
    "*Note: Please use the default index provided for this DataFrame throughout this exercise.*"
   ]
  },
  {
   "cell_type": "code",
   "execution_count": 33,
   "metadata": {
    "scrolled": true
   },
   "outputs": [],
   "source": [
    "sales_products_data=pd.read_csv(\"Sales-products.csv\")"
   ]
  },
  {
   "cell_type": "markdown",
   "metadata": {},
   "source": [
    "Return the index of the **sales_products_data** DataFrame."
   ]
  },
  {
   "cell_type": "code",
   "execution_count": 35,
   "metadata": {},
   "outputs": [
    {
     "data": {
      "text/plain": [
       "RangeIndex(start=0, stop=1276, step=1)"
      ]
     },
     "execution_count": 35,
     "metadata": {},
     "output_type": "execute_result"
    }
   ],
   "source": [
    "sales_products_data.index"
   ]
  },
  {
   "cell_type": "markdown",
   "metadata": {},
   "source": [
    "Verify that **sales_products_data** is a RangeIndex object in an alternative way by using the **type()** funciton."
   ]
  },
  {
   "cell_type": "code",
   "execution_count": 37,
   "metadata": {},
   "outputs": [
    {
     "data": {
      "text/plain": [
       "pandas.core.indexes.range.RangeIndex"
      ]
     },
     "execution_count": 37,
     "metadata": {},
     "output_type": "execute_result"
    }
   ],
   "source": [
    "type(sales_products_data.index)"
   ]
  },
  {
   "cell_type": "markdown",
   "metadata": {},
   "source": [
    "Retrieve and Index object containing all column names from the **sales_products_data** DataFrame."
   ]
  },
  {
   "cell_type": "code",
   "execution_count": 38,
   "metadata": {
    "scrolled": true
   },
   "outputs": [
    {
     "data": {
      "text/plain": [
       "Index(['SaleID', 'RetailerCountry', 'OrderMethod', 'RetailerType',\n",
       "       'ProductLine', 'ProductType', 'Product', 'Year', 'Quarter', 'Revenue',\n",
       "       'Quantity', 'GrossMargin'],\n",
       "      dtype='object')"
      ]
     },
     "execution_count": 38,
     "metadata": {},
     "output_type": "execute_result"
    }
   ],
   "source": [
    "sales_products_data.columns"
   ]
  },
  {
   "cell_type": "markdown",
   "metadata": {},
   "source": [
    "You are requested to create a new DataFrame, called **df**, whose data is obtained from the the names of the columns of **sales_products_data** DataFrame, while the column names are obtained from the **new_column_names** list.\n",
    "<br/><br/> First, execute the next cell to create **new_column_names**, and then in the next cell try creating the **df** DataFrame yourself (by helping yourself with the newly created **new_column_names** list).\n",
    "<br/><br/> *Note: There are two ways to achieve this - one would be through utilizing the* **columns** *parameter, and the other – with the help of the* **\"columns\"** *attribute. Choose whichever option you prefer (or why not try both!).*"
   ]
  },
  {
   "cell_type": "code",
   "execution_count": 41,
   "metadata": {},
   "outputs": [],
   "source": [
    "new_column_names = ['SaleID', 'Country', 'OrderMethod', 'Retailer', 'Line',\n",
    "       'Type', 'Product', 'YearOfSales', 'Quarter', 'Revenue', 'Quantity',\n",
    "       'Margin']"
   ]
  },
  {
   "cell_type": "code",
   "execution_count": 42,
   "metadata": {},
   "outputs": [],
   "source": [
    "data = [\n",
    "    [101, 'USA', 'Online', 'Retailer A', 'Electronics', 'Gadget', 'Smartphone', 2023, 'Q1', 50000, 100, 15000],\n",
    "    [102, 'Canada', 'In-Store', 'Retailer B', 'Clothing', 'Apparel', 'T-Shirt', 2023, 'Q2', 30000, 200, 12000],\n",
    "    [103, 'UK', 'Online', 'Retailer C', 'Furniture', 'Home', 'Sofa', 2022, 'Q3', 70000, 50, 25000],\n",
    "    [104, 'Germany', 'Phone', 'Retailer D', 'Electronics', 'Accessory', 'Headphones', 2023, 'Q4', 20000, 150, 8000],\n",
    "    [105, 'France', 'In-Store', 'Retailer E', 'Grocery', 'Food', 'Chocolate', 2022, 'Q1', 10000, 300, 4000]\n",
    "]"
   ]
  },
  {
   "cell_type": "code",
   "execution_count": 43,
   "metadata": {},
   "outputs": [],
   "source": [
    "df=pd.DataFrame(data,columns=new_column_names)"
   ]
  },
  {
   "cell_type": "markdown",
   "metadata": {},
   "source": [
    "Display the \"head\" of the **df** DataFrame."
   ]
  },
  {
   "cell_type": "code",
   "execution_count": 44,
   "metadata": {},
   "outputs": [
    {
     "data": {
      "text/html": [
       "<div>\n",
       "<style scoped>\n",
       "    .dataframe tbody tr th:only-of-type {\n",
       "        vertical-align: middle;\n",
       "    }\n",
       "\n",
       "    .dataframe tbody tr th {\n",
       "        vertical-align: top;\n",
       "    }\n",
       "\n",
       "    .dataframe thead th {\n",
       "        text-align: right;\n",
       "    }\n",
       "</style>\n",
       "<table border=\"1\" class=\"dataframe\">\n",
       "  <thead>\n",
       "    <tr style=\"text-align: right;\">\n",
       "      <th></th>\n",
       "      <th>SaleID</th>\n",
       "      <th>Country</th>\n",
       "      <th>OrderMethod</th>\n",
       "      <th>Retailer</th>\n",
       "      <th>Line</th>\n",
       "      <th>Type</th>\n",
       "      <th>Product</th>\n",
       "      <th>YearOfSales</th>\n",
       "      <th>Quarter</th>\n",
       "      <th>Revenue</th>\n",
       "      <th>Quantity</th>\n",
       "      <th>Margin</th>\n",
       "    </tr>\n",
       "  </thead>\n",
       "  <tbody>\n",
       "    <tr>\n",
       "      <th>0</th>\n",
       "      <td>101</td>\n",
       "      <td>USA</td>\n",
       "      <td>Online</td>\n",
       "      <td>Retailer A</td>\n",
       "      <td>Electronics</td>\n",
       "      <td>Gadget</td>\n",
       "      <td>Smartphone</td>\n",
       "      <td>2023</td>\n",
       "      <td>Q1</td>\n",
       "      <td>50000</td>\n",
       "      <td>100</td>\n",
       "      <td>15000</td>\n",
       "    </tr>\n",
       "    <tr>\n",
       "      <th>1</th>\n",
       "      <td>102</td>\n",
       "      <td>Canada</td>\n",
       "      <td>In-Store</td>\n",
       "      <td>Retailer B</td>\n",
       "      <td>Clothing</td>\n",
       "      <td>Apparel</td>\n",
       "      <td>T-Shirt</td>\n",
       "      <td>2023</td>\n",
       "      <td>Q2</td>\n",
       "      <td>30000</td>\n",
       "      <td>200</td>\n",
       "      <td>12000</td>\n",
       "    </tr>\n",
       "    <tr>\n",
       "      <th>2</th>\n",
       "      <td>103</td>\n",
       "      <td>UK</td>\n",
       "      <td>Online</td>\n",
       "      <td>Retailer C</td>\n",
       "      <td>Furniture</td>\n",
       "      <td>Home</td>\n",
       "      <td>Sofa</td>\n",
       "      <td>2022</td>\n",
       "      <td>Q3</td>\n",
       "      <td>70000</td>\n",
       "      <td>50</td>\n",
       "      <td>25000</td>\n",
       "    </tr>\n",
       "    <tr>\n",
       "      <th>3</th>\n",
       "      <td>104</td>\n",
       "      <td>Germany</td>\n",
       "      <td>Phone</td>\n",
       "      <td>Retailer D</td>\n",
       "      <td>Electronics</td>\n",
       "      <td>Accessory</td>\n",
       "      <td>Headphones</td>\n",
       "      <td>2023</td>\n",
       "      <td>Q4</td>\n",
       "      <td>20000</td>\n",
       "      <td>150</td>\n",
       "      <td>8000</td>\n",
       "    </tr>\n",
       "    <tr>\n",
       "      <th>4</th>\n",
       "      <td>105</td>\n",
       "      <td>France</td>\n",
       "      <td>In-Store</td>\n",
       "      <td>Retailer E</td>\n",
       "      <td>Grocery</td>\n",
       "      <td>Food</td>\n",
       "      <td>Chocolate</td>\n",
       "      <td>2022</td>\n",
       "      <td>Q1</td>\n",
       "      <td>10000</td>\n",
       "      <td>300</td>\n",
       "      <td>4000</td>\n",
       "    </tr>\n",
       "  </tbody>\n",
       "</table>\n",
       "</div>"
      ],
      "text/plain": [
       "   SaleID  Country OrderMethod    Retailer         Line       Type  \\\n",
       "0     101      USA      Online  Retailer A  Electronics     Gadget   \n",
       "1     102   Canada    In-Store  Retailer B     Clothing    Apparel   \n",
       "2     103       UK      Online  Retailer C    Furniture       Home   \n",
       "3     104  Germany       Phone  Retailer D  Electronics  Accessory   \n",
       "4     105   France    In-Store  Retailer E      Grocery       Food   \n",
       "\n",
       "      Product  YearOfSales Quarter  Revenue  Quantity  Margin  \n",
       "0  Smartphone         2023      Q1    50000       100   15000  \n",
       "1     T-Shirt         2023      Q2    30000       200   12000  \n",
       "2        Sofa         2022      Q3    70000        50   25000  \n",
       "3  Headphones         2023      Q4    20000       150    8000  \n",
       "4   Chocolate         2022      Q1    10000       300    4000  "
      ]
     },
     "execution_count": 44,
     "metadata": {},
     "output_type": "execute_result"
    }
   ],
   "source": [
    "df.head()"
   ]
  },
  {
   "cell_type": "markdown",
   "metadata": {},
   "source": [
    "Use an attribute to obtain metadata about the types of data stored in the different columns of the **sales_products_data** DataFrame."
   ]
  },
  {
   "cell_type": "code",
   "execution_count": 46,
   "metadata": {},
   "outputs": [
    {
     "data": {
      "text/plain": [
       "SaleID          int64\n",
       "Country        object\n",
       "OrderMethod    object\n",
       "Retailer       object\n",
       "Line           object\n",
       "Type           object\n",
       "Product        object\n",
       "YearOfSales     int64\n",
       "Quarter        object\n",
       "Revenue         int64\n",
       "Quantity        int64\n",
       "Margin          int64\n",
       "dtype: object"
      ]
     },
     "execution_count": 46,
     "metadata": {},
     "output_type": "execute_result"
    }
   ],
   "source": [
    "df.dtypes"
   ]
  },
  {
   "cell_type": "markdown",
   "metadata": {},
   "source": [
    "Obtain a Numpy array containing all values of the **sales_products_data**.\n",
    "<br/><br/> *Note: There are two ways to achieve this! Try both, but keep in mind that pandas developers advise us to stick to using the method.*"
   ]
  },
  {
   "cell_type": "code",
   "execution_count": 47,
   "metadata": {},
   "outputs": [
    {
     "data": {
      "text/plain": [
       "array([['SaleID_1', 'United States', 'Fax', ..., 59728.66, 491.0,\n",
       "        0.35754797],\n",
       "       ['SaleID_2', 'United States', 'Fax', ..., 36050.32, 254.0,\n",
       "        0.4842745],\n",
       "       ['SaleID_3', 'United States', 'Fax', ..., 90040.48, 149.0, nan],\n",
       "       ...,\n",
       "       ['SaleID_1274', 'Spain', 'Sales visit', ..., 12306.48, 238.0,\n",
       "        0.56842037],\n",
       "       ['SaleID_1275', 'Spain', 'Sales visit', ..., 56499.0, 1472.0,\n",
       "        0.49066667],\n",
       "       ['SaleID_1276', 'Spain', 'Sales visit', ..., 89427.0, 1178.0,\n",
       "        0.38689474]], shape=(1276, 12), dtype=object)"
      ]
     },
     "execution_count": 47,
     "metadata": {},
     "output_type": "execute_result"
    }
   ],
   "source": [
    "sales_products_data.to_numpy()"
   ]
  },
  {
   "cell_type": "code",
   "execution_count": 49,
   "metadata": {},
   "outputs": [
    {
     "data": {
      "text/plain": [
       "array([['SaleID_1', 'United States', 'Fax', ..., 59728.66, 491.0,\n",
       "        0.35754797],\n",
       "       ['SaleID_2', 'United States', 'Fax', ..., 36050.32, 254.0,\n",
       "        0.4842745],\n",
       "       ['SaleID_3', 'United States', 'Fax', ..., 90040.48, 149.0, nan],\n",
       "       ...,\n",
       "       ['SaleID_1274', 'Spain', 'Sales visit', ..., 12306.48, 238.0,\n",
       "        0.56842037],\n",
       "       ['SaleID_1275', 'Spain', 'Sales visit', ..., 56499.0, 1472.0,\n",
       "        0.49066667],\n",
       "       ['SaleID_1276', 'Spain', 'Sales visit', ..., 89427.0, 1178.0,\n",
       "        0.38689474]], shape=(1276, 12), dtype=object)"
      ]
     },
     "execution_count": 49,
     "metadata": {},
     "output_type": "execute_result"
    }
   ],
   "source": [
    "sales_products_data.values"
   ]
  },
  {
   "cell_type": "markdown",
   "metadata": {},
   "source": [
    "Verify that the obtained objects are NumPy arrays with the help of the \"Type\" function."
   ]
  },
  {
   "cell_type": "code",
   "execution_count": 50,
   "metadata": {},
   "outputs": [
    {
     "data": {
      "text/plain": [
       "method"
      ]
     },
     "execution_count": 50,
     "metadata": {},
     "output_type": "execute_result"
    }
   ],
   "source": [
    "# Import the pandas and numpy libraries by using the relevant well-known conventions.\n",
    "\n",
    "import pandas as pd\n",
    "import numpy as np\n",
    "type(sales_products_data.to_numpy)"
   ]
  },
  {
   "cell_type": "code",
   "execution_count": 51,
   "metadata": {},
   "outputs": [
    {
     "data": {
      "text/plain": [
       "numpy.ndarray"
      ]
     },
     "execution_count": 51,
     "metadata": {},
     "output_type": "execute_result"
    }
   ],
   "source": [
    "type(sales_products_data.values)"
   ]
  },
  {
   "cell_type": "markdown",
   "metadata": {},
   "source": [
    "Obtain the number of rows and columns in the **sales_products_data** DataFrame."
   ]
  },
  {
   "cell_type": "code",
   "execution_count": 52,
   "metadata": {},
   "outputs": [
    {
     "data": {
      "text/plain": [
       "(1276, 12)"
      ]
     },
     "execution_count": 52,
     "metadata": {},
     "output_type": "execute_result"
    }
   ],
   "source": [
    "sales_products_data.shape"
   ]
  },
  {
   "cell_type": "markdown",
   "metadata": {},
   "source": [
    "Check if the output obtained in the previous cell is a tuple."
   ]
  },
  {
   "cell_type": "code",
   "execution_count": null,
   "metadata": {},
   "outputs": [],
   "source": []
  },
  {
   "cell_type": "markdown",
   "metadata": {},
   "source": [
    "## Data Selection in pandas DataFrames"
   ]
  },
  {
   "cell_type": "markdown",
   "metadata": {},
   "source": [
    "Although we are not advised to, retrieve the data from the 'Product' column from the **sales_products_data** column *without* using the indexing operator **[ ]**."
   ]
  },
  {
   "cell_type": "code",
   "execution_count": 53,
   "metadata": {},
   "outputs": [
    {
     "data": {
      "text/plain": [
       "0       TrailChef Deluxe Cook Set\n",
       "1          TrailChef Double Flame\n",
       "2                       Star Dome\n",
       "3                    Star Gazer 2\n",
       "4              Compact Relief Kit\n",
       "                  ...            \n",
       "1271                Husky Rope 60\n",
       "1272        Firefly Climbing Lamp\n",
       "1273              Firefly Charger\n",
       "1274                  Granite Axe\n",
       "1275              Granite Extreme\n",
       "Name: Product, Length: 1276, dtype: object"
      ]
     },
     "execution_count": 53,
     "metadata": {},
     "output_type": "execute_result"
    }
   ],
   "source": [
    "sales_products_data['Product']"
   ]
  },
  {
   "cell_type": "markdown",
   "metadata": {},
   "source": [
    "Retrieve the data from the 'Product' column from the **sales_products_data** column by using the indexing operator **[ ]**."
   ]
  },
  {
   "cell_type": "code",
   "execution_count": 54,
   "metadata": {},
   "outputs": [
    {
     "data": {
      "text/plain": [
       "0       TrailChef Deluxe Cook Set\n",
       "1          TrailChef Double Flame\n",
       "2                       Star Dome\n",
       "3                    Star Gazer 2\n",
       "4              Compact Relief Kit\n",
       "                  ...            \n",
       "1271                Husky Rope 60\n",
       "1272        Firefly Climbing Lamp\n",
       "1273              Firefly Charger\n",
       "1274                  Granite Axe\n",
       "1275              Granite Extreme\n",
       "Name: Product, Length: 1276, dtype: object"
      ]
     },
     "execution_count": 54,
     "metadata": {},
     "output_type": "execute_result"
    }
   ],
   "source": [
    "sales_products_data['Product']"
   ]
  },
  {
   "cell_type": "markdown",
   "metadata": {},
   "source": [
    "Apply the **.tail()** method to the code you used in your previous response to obtain the last five rows from the \"Product\" column."
   ]
  },
  {
   "cell_type": "code",
   "execution_count": 55,
   "metadata": {},
   "outputs": [
    {
     "data": {
      "text/plain": [
       "1271            Husky Rope 60\n",
       "1272    Firefly Climbing Lamp\n",
       "1273          Firefly Charger\n",
       "1274              Granite Axe\n",
       "1275          Granite Extreme\n",
       "Name: Product, dtype: object"
      ]
     },
     "execution_count": 55,
     "metadata": {},
     "output_type": "execute_result"
    }
   ],
   "source": [
    "sales_products_data['Product'].tail()"
   ]
  },
  {
   "cell_type": "markdown",
   "metadata": {},
   "source": [
    "Although we are not advised to, retrieve the data from the 'Quarter' column from the **sales_products_data** column *without* using the indexing operator **.[ ]**."
   ]
  },
  {
   "cell_type": "code",
   "execution_count": null,
   "metadata": {},
   "outputs": [],
   "source": []
  },
  {
   "cell_type": "markdown",
   "metadata": {},
   "source": [
    "Retrieve the data from the 'Quarter' column from the **sales_products_data** column by using the indexing operator **[ ]**."
   ]
  },
  {
   "cell_type": "code",
   "execution_count": 56,
   "metadata": {},
   "outputs": [
    {
     "data": {
      "text/plain": [
       "0       Q1 2018\n",
       "1       Q1 2018\n",
       "2       Q1 2018\n",
       "3       Q1 2018\n",
       "4       Q1 2018\n",
       "         ...   \n",
       "1271    Q3 2020\n",
       "1272    Q3 2020\n",
       "1273    Q3 2020\n",
       "1274    Q3 2020\n",
       "1275    Q3 2020\n",
       "Name: Quarter, Length: 1276, dtype: object"
      ]
     },
     "execution_count": 56,
     "metadata": {},
     "output_type": "execute_result"
    }
   ],
   "source": [
    "sales_products_data['Quarter']"
   ]
  },
  {
   "cell_type": "markdown",
   "metadata": {},
   "source": [
    "Use any of the 4 previous examples to verify that the data obtained from a column of a DataFrame is actually stored in a Series object:"
   ]
  },
  {
   "cell_type": "code",
   "execution_count": 57,
   "metadata": {},
   "outputs": [
    {
     "data": {
      "text/plain": [
       "pandas.core.series.Series"
      ]
     },
     "execution_count": 57,
     "metadata": {},
     "output_type": "execute_result"
    }
   ],
   "source": [
    "type(sales_products_data['Quarter'])"
   ]
  },
  {
   "cell_type": "markdown",
   "metadata": {},
   "source": [
    "<br> Use a well-know attribute and attribute chaining to obtain information about the type of data stored in the \"Revenue\" column."
   ]
  },
  {
   "cell_type": "code",
   "execution_count": 60,
   "metadata": {
    "scrolled": true
   },
   "outputs": [
    {
     "data": {
      "text/plain": [
       "dtype('float64')"
      ]
     },
     "execution_count": 60,
     "metadata": {},
     "output_type": "execute_result"
    }
   ],
   "source": [
    "sales_products_data['Revenue'].dtype"
   ]
  },
  {
   "cell_type": "markdown",
   "metadata": {},
   "source": [
    "**Selecting multiple columns from a DF**"
   ]
  },
  {
   "cell_type": "markdown",
   "metadata": {},
   "source": [
    "Use a list with column names within the indexing operator ([ ]) to extract data from the 'Revenue' and 'Quantity' columns from the **sales_products_data** DataFrame. Use the **.head()** method to only display the top five rows of the selection.  <br>\n",
    "Solve the problem by using a single line of code."
   ]
  },
  {
   "cell_type": "code",
   "execution_count": 69,
   "metadata": {},
   "outputs": [
    {
     "data": {
      "text/html": [
       "<div>\n",
       "<style scoped>\n",
       "    .dataframe tbody tr th:only-of-type {\n",
       "        vertical-align: middle;\n",
       "    }\n",
       "\n",
       "    .dataframe tbody tr th {\n",
       "        vertical-align: top;\n",
       "    }\n",
       "\n",
       "    .dataframe thead th {\n",
       "        text-align: right;\n",
       "    }\n",
       "</style>\n",
       "<table border=\"1\" class=\"dataframe\">\n",
       "  <thead>\n",
       "    <tr style=\"text-align: right;\">\n",
       "      <th></th>\n",
       "      <th>Revenue</th>\n",
       "      <th>Quantity</th>\n",
       "    </tr>\n",
       "  </thead>\n",
       "  <tbody>\n",
       "    <tr>\n",
       "      <th>0</th>\n",
       "      <td>59728.66</td>\n",
       "      <td>491.0</td>\n",
       "    </tr>\n",
       "    <tr>\n",
       "      <th>1</th>\n",
       "      <td>36050.32</td>\n",
       "      <td>254.0</td>\n",
       "    </tr>\n",
       "    <tr>\n",
       "      <th>2</th>\n",
       "      <td>90040.48</td>\n",
       "      <td>149.0</td>\n",
       "    </tr>\n",
       "    <tr>\n",
       "      <th>3</th>\n",
       "      <td>NaN</td>\n",
       "      <td>305.0</td>\n",
       "    </tr>\n",
       "    <tr>\n",
       "      <th>4</th>\n",
       "      <td>NaN</td>\n",
       "      <td>182.0</td>\n",
       "    </tr>\n",
       "  </tbody>\n",
       "</table>\n",
       "</div>"
      ],
      "text/plain": [
       "    Revenue  Quantity\n",
       "0  59728.66     491.0\n",
       "1  36050.32     254.0\n",
       "2  90040.48     149.0\n",
       "3       NaN     305.0\n",
       "4       NaN     182.0"
      ]
     },
     "execution_count": 69,
     "metadata": {},
     "output_type": "execute_result"
    }
   ],
   "source": [
    "sales_products_data[[\"Revenue\",\"Quantity\"]].head()"
   ]
  },
  {
   "cell_type": "markdown",
   "metadata": {},
   "source": [
    "Can you think of a more elegant way to obtain the same result? This option is more often encountered in professional work since it improves the legibility of your code."
   ]
  },
  {
   "cell_type": "code",
   "execution_count": 70,
   "metadata": {},
   "outputs": [
    {
     "name": "stdout",
     "output_type": "stream",
     "text": [
      "    Revenue  Quantity\n",
      "0  59728.66     491.0\n",
      "1  36050.32     254.0\n",
      "2  90040.48     149.0\n",
      "3       NaN     305.0\n",
      "4       NaN     182.0\n"
     ]
    }
   ],
   "source": [
    "# Select 'Revenue' and 'Quantity' columns and display the top 5 rows (more readable approach)\n",
    "sales_products_data_subset = (\n",
    "    sales_products_data[[\"Revenue\", \"Quantity\"]]\n",
    "    .head()\n",
    ")\n",
    "\n",
    "print(sales_products_data_subset)\n"
   ]
  },
  {
   "cell_type": "markdown",
   "metadata": {},
   "source": [
    "## pandas DataFrames - Indexing with .iloc[]"
   ]
  },
  {
   "cell_type": "markdown",
   "metadata": {},
   "source": [
    "Select the data from the first row from the **sales_products_data** DataFrame (don't forget that in programming we start counting from 0!)."
   ]
  },
  {
   "cell_type": "code",
   "execution_count": 71,
   "metadata": {},
   "outputs": [
    {
     "data": {
      "text/plain": [
       "SaleID                              SaleID_1\n",
       "RetailerCountry                United States\n",
       "OrderMethod                              Fax\n",
       "RetailerType                   Outdoors Shop\n",
       "ProductLine             Personal Accessories\n",
       "ProductType                     Cooking Gear\n",
       "Product            TrailChef Deluxe Cook Set\n",
       "Year                                  2018.0\n",
       "Quarter                              Q1 2018\n",
       "Revenue                             59728.66\n",
       "Quantity                               491.0\n",
       "GrossMargin                         0.357548\n",
       "Name: 0, dtype: object"
      ]
     },
     "execution_count": 71,
     "metadata": {},
     "output_type": "execute_result"
    }
   ],
   "source": [
    "sales_products_data.iloc[0]"
   ]
  },
  {
   "cell_type": "markdown",
   "metadata": {},
   "source": [
    "Select the data from the penultimate row from the **sales_products_data** DataFrame. "
   ]
  },
  {
   "cell_type": "code",
   "execution_count": 72,
   "metadata": {
    "scrolled": true
   },
   "outputs": [
    {
     "data": {
      "text/plain": [
       "SaleID                      SaleID_1275\n",
       "RetailerCountry                   Spain\n",
       "OrderMethod                 Sales visit\n",
       "RetailerType              Outdoors Shop\n",
       "ProductLine        Personal Accessories\n",
       "ProductType                       Tools\n",
       "Product                     Granite Axe\n",
       "Year                             2020.0\n",
       "Quarter                         Q3 2020\n",
       "Revenue                         56499.0\n",
       "Quantity                         1472.0\n",
       "GrossMargin                    0.490667\n",
       "Name: 1274, dtype: object"
      ]
     },
     "execution_count": 72,
     "metadata": {},
     "output_type": "execute_result"
    }
   ],
   "source": [
    "sales_products_data.iloc[-2]"
   ]
  },
  {
   "cell_type": "markdown",
   "metadata": {},
   "source": [
    "Select the value from the second row and sixth column of **sales_products_data** by using the **.iloc[]** accessor.\n",
    "<br><br> *Hint: If you've worked correctly, you should obtain 'Cooking Gear'.*"
   ]
  },
  {
   "cell_type": "code",
   "execution_count": 73,
   "metadata": {},
   "outputs": [
    {
     "data": {
      "text/html": [
       "<div>\n",
       "<style scoped>\n",
       "    .dataframe tbody tr th:only-of-type {\n",
       "        vertical-align: middle;\n",
       "    }\n",
       "\n",
       "    .dataframe tbody tr th {\n",
       "        vertical-align: top;\n",
       "    }\n",
       "\n",
       "    .dataframe thead th {\n",
       "        text-align: right;\n",
       "    }\n",
       "</style>\n",
       "<table border=\"1\" class=\"dataframe\">\n",
       "  <thead>\n",
       "    <tr style=\"text-align: right;\">\n",
       "      <th></th>\n",
       "      <th>SaleID</th>\n",
       "      <th>RetailerCountry</th>\n",
       "      <th>OrderMethod</th>\n",
       "      <th>RetailerType</th>\n",
       "      <th>ProductLine</th>\n",
       "      <th>ProductType</th>\n",
       "      <th>Product</th>\n",
       "      <th>Year</th>\n",
       "      <th>Quarter</th>\n",
       "      <th>Revenue</th>\n",
       "      <th>Quantity</th>\n",
       "      <th>GrossMargin</th>\n",
       "    </tr>\n",
       "  </thead>\n",
       "  <tbody>\n",
       "    <tr>\n",
       "      <th>1</th>\n",
       "      <td>SaleID_2</td>\n",
       "      <td>United States</td>\n",
       "      <td>Fax</td>\n",
       "      <td>Outdoors Shop</td>\n",
       "      <td>Sports Equipment</td>\n",
       "      <td>Cooking Gear</td>\n",
       "      <td>TrailChef Double Flame</td>\n",
       "      <td>2018.0</td>\n",
       "      <td>Q1 2018</td>\n",
       "      <td>36050.32</td>\n",
       "      <td>254.0</td>\n",
       "      <td>0.484274</td>\n",
       "    </tr>\n",
       "    <tr>\n",
       "      <th>2</th>\n",
       "      <td>SaleID_3</td>\n",
       "      <td>United States</td>\n",
       "      <td>Fax</td>\n",
       "      <td>Outdoors Shop</td>\n",
       "      <td>NaN</td>\n",
       "      <td>Tents</td>\n",
       "      <td>Star Dome</td>\n",
       "      <td>2018.0</td>\n",
       "      <td>Q1 2018</td>\n",
       "      <td>90040.48</td>\n",
       "      <td>149.0</td>\n",
       "      <td>NaN</td>\n",
       "    </tr>\n",
       "    <tr>\n",
       "      <th>3</th>\n",
       "      <td>SaleID_4</td>\n",
       "      <td>United States</td>\n",
       "      <td>Fax</td>\n",
       "      <td>Outdoors Shop</td>\n",
       "      <td>NaN</td>\n",
       "      <td>Tents</td>\n",
       "      <td>Star Gazer 2</td>\n",
       "      <td>2018.0</td>\n",
       "      <td>Q1 2018</td>\n",
       "      <td>NaN</td>\n",
       "      <td>305.0</td>\n",
       "      <td>0.292938</td>\n",
       "    </tr>\n",
       "    <tr>\n",
       "      <th>4</th>\n",
       "      <td>SaleID_5</td>\n",
       "      <td>United States</td>\n",
       "      <td>NaN</td>\n",
       "      <td>Outdoors Shop</td>\n",
       "      <td>Personal Accessories</td>\n",
       "      <td>First Aid</td>\n",
       "      <td>Compact Relief Kit</td>\n",
       "      <td>2018.0</td>\n",
       "      <td>Q1 2018</td>\n",
       "      <td>NaN</td>\n",
       "      <td>182.0</td>\n",
       "      <td>0.610710</td>\n",
       "    </tr>\n",
       "  </tbody>\n",
       "</table>\n",
       "</div>"
      ],
      "text/plain": [
       "     SaleID RetailerCountry OrderMethod   RetailerType           ProductLine  \\\n",
       "1  SaleID_2   United States         Fax  Outdoors Shop      Sports Equipment   \n",
       "2  SaleID_3   United States         Fax  Outdoors Shop                   NaN   \n",
       "3  SaleID_4   United States         Fax  Outdoors Shop                   NaN   \n",
       "4  SaleID_5   United States         NaN  Outdoors Shop  Personal Accessories   \n",
       "\n",
       "    ProductType                 Product    Year  Quarter   Revenue  Quantity  \\\n",
       "1  Cooking Gear  TrailChef Double Flame  2018.0  Q1 2018  36050.32     254.0   \n",
       "2         Tents               Star Dome  2018.0  Q1 2018  90040.48     149.0   \n",
       "3         Tents            Star Gazer 2  2018.0  Q1 2018       NaN     305.0   \n",
       "4     First Aid      Compact Relief Kit  2018.0  Q1 2018       NaN     182.0   \n",
       "\n",
       "   GrossMargin  \n",
       "1     0.484274  \n",
       "2          NaN  \n",
       "3     0.292938  \n",
       "4     0.610710  "
      ]
     },
     "execution_count": 73,
     "metadata": {},
     "output_type": "execute_result"
    }
   ],
   "source": [
    "sales_products_data.iloc[1:5]"
   ]
  },
  {
   "cell_type": "markdown",
   "metadata": {},
   "source": [
    "Use the **.shape** attribute to discover the largest numbers that you can use as arguments of the **.iloc[]** accessor."
   ]
  },
  {
   "cell_type": "code",
   "execution_count": 74,
   "metadata": {},
   "outputs": [
    {
     "data": {
      "text/plain": [
       "(1276, 12)"
      ]
     },
     "execution_count": 74,
     "metadata": {},
     "output_type": "execute_result"
    }
   ],
   "source": [
    "sales_products_data.shape"
   ]
  },
  {
   "cell_type": "markdown",
   "metadata": {},
   "source": [
    "Considering the values you just obtained, use the **.iloc[]** accessor find out the value that has been stored in the last row and farthest-to-the-right column."
   ]
  },
  {
   "cell_type": "code",
   "execution_count": 75,
   "metadata": {},
   "outputs": [
    {
     "data": {
      "text/plain": [
       "np.float64(0.38689474)"
      ]
     },
     "execution_count": 75,
     "metadata": {},
     "output_type": "execute_result"
    }
   ],
   "source": [
    "sales_products_data.iloc[-1,-1]"
   ]
  },
  {
   "cell_type": "markdown",
   "metadata": {},
   "source": [
    "Verify that you've obtained the correct value by applying the **.tail()** method to the **sales_products_data** DataFrame.\n",
    "<br> Observe the value that is farthest to the right on the last row."
   ]
  },
  {
   "cell_type": "code",
   "execution_count": 76,
   "metadata": {
    "scrolled": true
   },
   "outputs": [
    {
     "data": {
      "text/html": [
       "<div>\n",
       "<style scoped>\n",
       "    .dataframe tbody tr th:only-of-type {\n",
       "        vertical-align: middle;\n",
       "    }\n",
       "\n",
       "    .dataframe tbody tr th {\n",
       "        vertical-align: top;\n",
       "    }\n",
       "\n",
       "    .dataframe thead th {\n",
       "        text-align: right;\n",
       "    }\n",
       "</style>\n",
       "<table border=\"1\" class=\"dataframe\">\n",
       "  <thead>\n",
       "    <tr style=\"text-align: right;\">\n",
       "      <th></th>\n",
       "      <th>SaleID</th>\n",
       "      <th>RetailerCountry</th>\n",
       "      <th>OrderMethod</th>\n",
       "      <th>RetailerType</th>\n",
       "      <th>ProductLine</th>\n",
       "      <th>ProductType</th>\n",
       "      <th>Product</th>\n",
       "      <th>Year</th>\n",
       "      <th>Quarter</th>\n",
       "      <th>Revenue</th>\n",
       "      <th>Quantity</th>\n",
       "      <th>GrossMargin</th>\n",
       "    </tr>\n",
       "  </thead>\n",
       "  <tbody>\n",
       "    <tr>\n",
       "      <th>1271</th>\n",
       "      <td>SaleID_1272</td>\n",
       "      <td>Spain</td>\n",
       "      <td>Sales visit</td>\n",
       "      <td>Outdoors Shop</td>\n",
       "      <td>Personal Accessories</td>\n",
       "      <td>Rope</td>\n",
       "      <td>Husky Rope 60</td>\n",
       "      <td>2020.0</td>\n",
       "      <td>Q3 2020</td>\n",
       "      <td>30916.50</td>\n",
       "      <td>173.0</td>\n",
       "      <td>0.298114</td>\n",
       "    </tr>\n",
       "    <tr>\n",
       "      <th>1272</th>\n",
       "      <td>SaleID_1273</td>\n",
       "      <td>Spain</td>\n",
       "      <td>Sales visit</td>\n",
       "      <td>Outdoors Shop</td>\n",
       "      <td>Outdoor Protection</td>\n",
       "      <td>Climbing Accessories</td>\n",
       "      <td>Firefly Climbing Lamp</td>\n",
       "      <td>2020.0</td>\n",
       "      <td>Q3 2020</td>\n",
       "      <td>7536.29</td>\n",
       "      <td>193.0</td>\n",
       "      <td>0.445287</td>\n",
       "    </tr>\n",
       "    <tr>\n",
       "      <th>1273</th>\n",
       "      <td>SaleID_1274</td>\n",
       "      <td>Spain</td>\n",
       "      <td>Sales visit</td>\n",
       "      <td>Outdoors Shop</td>\n",
       "      <td>Personal Accessories</td>\n",
       "      <td>Climbing Accessories</td>\n",
       "      <td>Firefly Charger</td>\n",
       "      <td>2020.0</td>\n",
       "      <td>Q3 2020</td>\n",
       "      <td>12306.48</td>\n",
       "      <td>238.0</td>\n",
       "      <td>0.568420</td>\n",
       "    </tr>\n",
       "    <tr>\n",
       "      <th>1274</th>\n",
       "      <td>SaleID_1275</td>\n",
       "      <td>Spain</td>\n",
       "      <td>Sales visit</td>\n",
       "      <td>Outdoors Shop</td>\n",
       "      <td>Personal Accessories</td>\n",
       "      <td>Tools</td>\n",
       "      <td>Granite Axe</td>\n",
       "      <td>2020.0</td>\n",
       "      <td>Q3 2020</td>\n",
       "      <td>56499.00</td>\n",
       "      <td>1472.0</td>\n",
       "      <td>0.490667</td>\n",
       "    </tr>\n",
       "    <tr>\n",
       "      <th>1275</th>\n",
       "      <td>SaleID_1276</td>\n",
       "      <td>Spain</td>\n",
       "      <td>Sales visit</td>\n",
       "      <td>Outdoors Shop</td>\n",
       "      <td>Camping Equipment</td>\n",
       "      <td>Tools</td>\n",
       "      <td>Granite Extreme</td>\n",
       "      <td>2020.0</td>\n",
       "      <td>Q3 2020</td>\n",
       "      <td>89427.00</td>\n",
       "      <td>1178.0</td>\n",
       "      <td>0.386895</td>\n",
       "    </tr>\n",
       "  </tbody>\n",
       "</table>\n",
       "</div>"
      ],
      "text/plain": [
       "           SaleID RetailerCountry  OrderMethod   RetailerType  \\\n",
       "1271  SaleID_1272           Spain  Sales visit  Outdoors Shop   \n",
       "1272  SaleID_1273           Spain  Sales visit  Outdoors Shop   \n",
       "1273  SaleID_1274           Spain  Sales visit  Outdoors Shop   \n",
       "1274  SaleID_1275           Spain  Sales visit  Outdoors Shop   \n",
       "1275  SaleID_1276           Spain  Sales visit  Outdoors Shop   \n",
       "\n",
       "               ProductLine           ProductType                Product  \\\n",
       "1271  Personal Accessories                  Rope          Husky Rope 60   \n",
       "1272    Outdoor Protection  Climbing Accessories  Firefly Climbing Lamp   \n",
       "1273  Personal Accessories  Climbing Accessories        Firefly Charger   \n",
       "1274  Personal Accessories                 Tools            Granite Axe   \n",
       "1275     Camping Equipment                 Tools        Granite Extreme   \n",
       "\n",
       "        Year  Quarter   Revenue  Quantity  GrossMargin  \n",
       "1271  2020.0  Q3 2020  30916.50     173.0     0.298114  \n",
       "1272  2020.0  Q3 2020   7536.29     193.0     0.445287  \n",
       "1273  2020.0  Q3 2020  12306.48     238.0     0.568420  \n",
       "1274  2020.0  Q3 2020  56499.00    1472.0     0.490667  \n",
       "1275  2020.0  Q3 2020  89427.00    1178.0     0.386895  "
      ]
     },
     "execution_count": 76,
     "metadata": {},
     "output_type": "execute_result"
    }
   ],
   "source": [
    "sales_products_data.tail()"
   ]
  },
  {
   "cell_type": "markdown",
   "metadata": {},
   "source": [
    "Prove that **.iloc[]** can be applied to a Series object such as **sales_products_data['Product']** as well (e.g. by obtaining the first element from this column).\n",
    "<br><br> *Note: We are asking you to try this syntax out to make sure you are in control of obtaining the desired portion of the data regardless of the object it has been contained into. The syntax and tools are similar, while their utilization may differ.*\n",
    "<br> *This note applies to this and the next task.*"
   ]
  },
  {
   "cell_type": "code",
   "execution_count": 77,
   "metadata": {},
   "outputs": [
    {
     "data": {
      "text/plain": [
       "'TrailChef Deluxe Cook Set'"
      ]
     },
     "execution_count": 77,
     "metadata": {},
     "output_type": "execute_result"
    }
   ],
   "source": [
    "sales_products_data['Product'].iloc[0]"
   ]
  },
  {
   "cell_type": "markdown",
   "metadata": {},
   "source": [
    "Although we are not advised to, when working with a Series object, we can obtain the same output without using the **.iloc[]** indexer and using \"classical\" Python indexing. Can you try that out?"
   ]
  },
  {
   "cell_type": "code",
   "execution_count": 78,
   "metadata": {},
   "outputs": [
    {
     "data": {
      "text/plain": [
       "'TrailChef Deluxe Cook Set'"
      ]
     },
     "execution_count": 78,
     "metadata": {},
     "output_type": "execute_result"
    }
   ],
   "source": [
    "sales_products_data['Product'][0]"
   ]
  },
  {
   "cell_type": "markdown",
   "metadata": {},
   "source": [
    "## pandas DataFrames - Indexing with .loc[]"
   ]
  },
  {
   "cell_type": "markdown",
   "metadata": {},
   "source": [
    "Retrieve the values from the first row of the DataFrame by using the specified label-based index rather than the default numeric index."
   ]
  },
  {
   "cell_type": "code",
   "execution_count": 79,
   "metadata": {},
   "outputs": [
    {
     "data": {
      "text/plain": [
       "SaleID                              SaleID_1\n",
       "RetailerCountry                United States\n",
       "OrderMethod                              Fax\n",
       "RetailerType                   Outdoors Shop\n",
       "ProductLine             Personal Accessories\n",
       "ProductType                     Cooking Gear\n",
       "Product            TrailChef Deluxe Cook Set\n",
       "Year                                  2018.0\n",
       "Quarter                              Q1 2018\n",
       "Revenue                             59728.66\n",
       "Quantity                               491.0\n",
       "GrossMargin                         0.357548\n",
       "Name: 0, dtype: object"
      ]
     },
     "execution_count": 79,
     "metadata": {},
     "output_type": "execute_result"
    }
   ],
   "source": [
    "sales_products_data.loc[0]"
   ]
  },
  {
   "cell_type": "markdown",
   "metadata": {},
   "source": [
    "By using the specified label-based index again, retrieve the information stored in the 'GrossMargin' column for the 4th sale. "
   ]
  },
  {
   "cell_type": "code",
   "execution_count": 81,
   "metadata": {},
   "outputs": [
    {
     "data": {
      "text/plain": [
       "np.float64(0.29293788)"
      ]
     },
     "execution_count": 81,
     "metadata": {},
     "output_type": "execute_result"
    }
   ],
   "source": [
    "sales_products_data.loc[3,'GrossMargin']"
   ]
  },
  {
   "cell_type": "markdown",
   "metadata": {},
   "source": [
    "Obtain a DataFrame containg the values stored in all columns for sales numbered 15, 235, and 1147 by using the **.loc[]** indexer."
   ]
  },
  {
   "cell_type": "code",
   "execution_count": 82,
   "metadata": {},
   "outputs": [
    {
     "data": {
      "text/html": [
       "<div>\n",
       "<style scoped>\n",
       "    .dataframe tbody tr th:only-of-type {\n",
       "        vertical-align: middle;\n",
       "    }\n",
       "\n",
       "    .dataframe tbody tr th {\n",
       "        vertical-align: top;\n",
       "    }\n",
       "\n",
       "    .dataframe thead th {\n",
       "        text-align: right;\n",
       "    }\n",
       "</style>\n",
       "<table border=\"1\" class=\"dataframe\">\n",
       "  <thead>\n",
       "    <tr style=\"text-align: right;\">\n",
       "      <th></th>\n",
       "      <th>SaleID</th>\n",
       "      <th>RetailerCountry</th>\n",
       "      <th>OrderMethod</th>\n",
       "      <th>RetailerType</th>\n",
       "      <th>ProductLine</th>\n",
       "      <th>ProductType</th>\n",
       "      <th>Product</th>\n",
       "      <th>Year</th>\n",
       "      <th>Quarter</th>\n",
       "      <th>Revenue</th>\n",
       "      <th>Quantity</th>\n",
       "      <th>GrossMargin</th>\n",
       "    </tr>\n",
       "  </thead>\n",
       "  <tbody>\n",
       "    <tr>\n",
       "      <th>15</th>\n",
       "      <td>SaleID_16</td>\n",
       "      <td>United States</td>\n",
       "      <td>Web</td>\n",
       "      <td>Mall</td>\n",
       "      <td>Camping Equipment</td>\n",
       "      <td>Knives</td>\n",
       "      <td>Max Gizmo</td>\n",
       "      <td>2018.0</td>\n",
       "      <td>Q1 2018</td>\n",
       "      <td>12362.20</td>\n",
       "      <td>323.0</td>\n",
       "      <td>0.549791</td>\n",
       "    </tr>\n",
       "    <tr>\n",
       "      <th>235</th>\n",
       "      <td>SaleID_236</td>\n",
       "      <td>Mexico</td>\n",
       "      <td>Web</td>\n",
       "      <td>Mall</td>\n",
       "      <td>Camping Equipment</td>\n",
       "      <td>Binoculars</td>\n",
       "      <td>Ranger Vision</td>\n",
       "      <td>2018.0</td>\n",
       "      <td>Q3 2018</td>\n",
       "      <td>5700.00</td>\n",
       "      <td>37.0</td>\n",
       "      <td>0.370000</td>\n",
       "    </tr>\n",
       "    <tr>\n",
       "      <th>1147</th>\n",
       "      <td>SaleID_1148</td>\n",
       "      <td>Germany</td>\n",
       "      <td>Phone</td>\n",
       "      <td>Department Store</td>\n",
       "      <td>Camping Equipment</td>\n",
       "      <td>Lanterns</td>\n",
       "      <td>EverGlow Lamp</td>\n",
       "      <td>2020.0</td>\n",
       "      <td>Q1 2020</td>\n",
       "      <td>44998.55</td>\n",
       "      <td>1670.0</td>\n",
       "      <td>0.524364</td>\n",
       "    </tr>\n",
       "  </tbody>\n",
       "</table>\n",
       "</div>"
      ],
      "text/plain": [
       "           SaleID RetailerCountry OrderMethod      RetailerType  \\\n",
       "15      SaleID_16   United States         Web              Mall   \n",
       "235    SaleID_236          Mexico         Web              Mall   \n",
       "1147  SaleID_1148         Germany       Phone  Department Store   \n",
       "\n",
       "            ProductLine ProductType        Product    Year  Quarter   Revenue  \\\n",
       "15    Camping Equipment      Knives      Max Gizmo  2018.0  Q1 2018  12362.20   \n",
       "235   Camping Equipment  Binoculars  Ranger Vision  2018.0  Q3 2018   5700.00   \n",
       "1147  Camping Equipment    Lanterns  EverGlow Lamp  2020.0  Q1 2020  44998.55   \n",
       "\n",
       "      Quantity  GrossMargin  \n",
       "15       323.0     0.549791  \n",
       "235       37.0     0.370000  \n",
       "1147    1670.0     0.524364  "
      ]
     },
     "execution_count": 82,
     "metadata": {},
     "output_type": "execute_result"
    }
   ],
   "source": [
    "sales_products_data.loc[[15,235,1147]]"
   ]
  },
  {
   "cell_type": "markdown",
   "metadata": {},
   "source": [
    "With the help of the **.loc[]** indexer, select the last 5 records from the 'Year' column."
   ]
  },
  {
   "cell_type": "code",
   "execution_count": 84,
   "metadata": {},
   "outputs": [
    {
     "data": {
      "text/plain": [
       "1271    2020.0\n",
       "1272    2020.0\n",
       "1273    2020.0\n",
       "1274    2020.0\n",
       "1275    2020.0\n",
       "Name: Year, dtype: float64"
      ]
     },
     "execution_count": 84,
     "metadata": {},
     "output_type": "execute_result"
    }
   ],
   "source": [
    "sales_products_data.loc[sales_products_data.index[-5:],\"Year\"]"
   ]
  },
  {
   "cell_type": "code",
   "execution_count": null,
   "metadata": {},
   "outputs": [],
   "source": []
  }
 ],
 "metadata": {
  "anaconda-cloud": {},
  "kernelspec": {
   "display_name": "Ml",
   "language": "python",
   "name": "python3"
  },
  "language_info": {
   "codemirror_mode": {
    "name": "ipython",
    "version": 3
   },
   "file_extension": ".py",
   "mimetype": "text/x-python",
   "name": "python",
   "nbconvert_exporter": "python",
   "pygments_lexer": "ipython3",
   "version": "3.13.1"
  }
 },
 "nbformat": 4,
 "nbformat_minor": 4
}
