{
 "cells": [
  {
   "cell_type": "markdown",
   "metadata": {},
   "source": [
    "# 🚢 Titanic Survival Prediction with Neural Networks\n",
    "\n",
    "In this project, we explore the Titanic dataset to understand survival patterns and build a neural network model using TensorFlow/Keras to predict passenger survival. \n",
    "\n",
    "### Key Steps:\n",
    "- Data Cleaning & Preprocessing\n",
    "- One-Hot Encoding for Categorical Variables\n",
    "- Train-Test Splitting and Feature Scaling\n",
    "- Building a Simple Neural Network\n",
    "- Model Training, Evaluation, and Visualization\n"
   ]
  },
  {
   "cell_type": "markdown",
   "metadata": {},
   "source": [
    "# Import Libraries:"
   ]
  },
  {
   "cell_type": "code",
   "execution_count": 1,
   "metadata": {},
   "outputs": [],
   "source": [
    "import pandas as pd\n",
    "import seaborn as sns\n",
    "import numpy as np\n",
    "from sklearn.model_selection import train_test_split\n",
    "from sklearn.preprocessing import StandardScaler\n",
    "import tensorflow as tf\n",
    "from tensorflow.keras.callbacks import EarlyStopping"
   ]
  },
  {
   "cell_type": "markdown",
   "metadata": {},
   "source": [
    " # Load and Preprocess the Titanic Dataset:"
   ]
  },
  {
   "cell_type": "code",
   "execution_count": null,
   "metadata": {},
   "outputs": [],
   "source": [
    "# Ignore warnings for cleaner output\n",
    "import warnings\n",
    "warnings.filterwarnings('ignore')\n",
    "\n",
    "# Load the Titanic dataset using seaborn\n",
    "titanic = sns.load_dataset('titanic')\n",
    "\n",
    "# Display the first few rows of the dataset\n",
    "titanic.head()\n",
    "\n",
    "# Show column names in the dataset\n",
    "titanic.columns\n",
    "\n",
    "#  Drop rows where 'age' or 'embarked' is missing\n",
    "titanic.dropna(subset=['age', 'embarked'], inplace=True)\n",
    "\n",
    "# One-hot encode categorical columns into numerical format\n",
    "titanic = pd.get_dummies(titanic, columns=['sex', 'embarked', 'class', 'who', 'deck'])\n",
    "\n",
    "# Split the dataset into features (X) and target (y)\n",
    "X = titanic.drop(['survived', 'alive', 'embark_town', 'adult_male', 'alone'], axis=1)\n",
    "y = titanic['survived']\n"
   ]
  },
  {
   "cell_type": "markdown",
   "metadata": {},
   "source": [
    "# Split the Dataset and Standardize Features:"
   ]
  },
  {
   "cell_type": "code",
   "execution_count": null,
   "metadata": {},
   "outputs": [],
   "source": [
    "# Split the dataset into training and testing sets (80% train, 20% test)\n",
    "X_train, X_test, y_train, y_test = train_test_split(X, y, test_size=0.2, random_state=42)\n",
    "\n",
    "# Standardize the feature values to have mean = 0 and std = 1\n",
    "scaler = StandardScaler()\n",
    "\n",
    "# Fit the scaler on training data and transform it\n",
    "X_train = scaler.fit_transform(X_train)\n",
    "\n",
    "# Use the same scaler to transform the test data\n",
    "X_test = scaler.transform(X_test)\n"
   ]
  },
  {
   "cell_type": "markdown",
   "metadata": {},
   "source": [
    "# Build, Compile, and Train the Neural Network Model:"
   ]
  },
  {
   "cell_type": "code",
   "execution_count": null,
   "metadata": {},
   "outputs": [
    {
     "name": "stdout",
     "output_type": "stream",
     "text": [
      "Epoch 1/10\n",
      "\u001b[1m18/18\u001b[0m \u001b[32m━━━━━━━━━━━━━━━━━━━━\u001b[0m\u001b[37m\u001b[0m \u001b[1m2s\u001b[0m 30ms/step - accuracy: 0.4615 - loss: 0.7564 - val_accuracy: 0.5804 - val_loss: 0.7084\n",
      "Epoch 2/10\n",
      "\u001b[1m18/18\u001b[0m \u001b[32m━━━━━━━━━━━━━━━━━━━━\u001b[0m\u001b[37m\u001b[0m \u001b[1m0s\u001b[0m 13ms/step - accuracy: 0.5990 - loss: 0.7026 - val_accuracy: 0.6014 - val_loss: 0.6611\n",
      "Epoch 3/10\n",
      "\u001b[1m18/18\u001b[0m \u001b[32m━━━━━━━━━━━━━━━━━━━━\u001b[0m\u001b[37m\u001b[0m \u001b[1m0s\u001b[0m 10ms/step - accuracy: 0.6656 - loss: 0.6056 - val_accuracy: 0.6573 - val_loss: 0.6253\n",
      "Epoch 4/10\n",
      "\u001b[1m18/18\u001b[0m \u001b[32m━━━━━━━━━━━━━━━━━━━━\u001b[0m\u001b[37m\u001b[0m \u001b[1m0s\u001b[0m 10ms/step - accuracy: 0.7309 - loss: 0.5803 - val_accuracy: 0.6993 - val_loss: 0.5986\n",
      "Epoch 5/10\n",
      "\u001b[1m18/18\u001b[0m \u001b[32m━━━━━━━━━━━━━━━━━━━━\u001b[0m\u001b[37m\u001b[0m \u001b[1m0s\u001b[0m 10ms/step - accuracy: 0.7118 - loss: 0.5717 - val_accuracy: 0.6993 - val_loss: 0.5774\n",
      "Epoch 6/10\n",
      "\u001b[1m18/18\u001b[0m \u001b[32m━━━━━━━━━━━━━━━━━━━━\u001b[0m\u001b[37m\u001b[0m \u001b[1m0s\u001b[0m 12ms/step - accuracy: 0.7650 - loss: 0.5141 - val_accuracy: 0.7413 - val_loss: 0.5600\n",
      "Epoch 7/10\n",
      "\u001b[1m18/18\u001b[0m \u001b[32m━━━━━━━━━━━━━━━━━━━━\u001b[0m\u001b[37m\u001b[0m \u001b[1m0s\u001b[0m 10ms/step - accuracy: 0.7466 - loss: 0.5038 - val_accuracy: 0.7483 - val_loss: 0.5459\n",
      "Epoch 8/10\n",
      "\u001b[1m18/18\u001b[0m \u001b[32m━━━━━━━━━━━━━━━━━━━━\u001b[0m\u001b[37m\u001b[0m \u001b[1m0s\u001b[0m 10ms/step - accuracy: 0.7871 - loss: 0.4730 - val_accuracy: 0.7413 - val_loss: 0.5356\n",
      "Epoch 9/10\n",
      "\u001b[1m18/18\u001b[0m \u001b[32m━━━━━━━━━━━━━━━━━━━━\u001b[0m\u001b[37m\u001b[0m \u001b[1m0s\u001b[0m 11ms/step - accuracy: 0.7747 - loss: 0.4909 - val_accuracy: 0.7483 - val_loss: 0.5274\n",
      "Epoch 10/10\n",
      "\u001b[1m18/18\u001b[0m \u001b[32m━━━━━━━━━━━━━━━━━━━━\u001b[0m\u001b[37m\u001b[0m \u001b[1m0s\u001b[0m 11ms/step - accuracy: 0.7868 - loss: 0.4575 - val_accuracy: 0.7483 - val_loss: 0.5220\n"
     ]
    }
   ],
   "source": [
    "#  Define the input and output layers of the neural network\n",
    "input_layer = tf.keras.layers.Dense(10, activation='relu', input_shape=(X_train.shape[1],))  # Input layer with ReLU activation\n",
    "output_layer = tf.keras.layers.Dense(1, activation='sigmoid')  # Output layer with sigmoid activation for binary classification\n",
    "\n",
    "# Build the sequential model\n",
    "model = tf.keras.models.Sequential([\n",
    "    input_layer,\n",
    "    output_layer\n",
    "])\n",
    "\n",
    "#  Compile the model with optimizer, loss function, and evaluation metric\n",
    "model.compile(optimizer='adam', \n",
    "              loss='binary_crossentropy', \n",
    "              metrics=['accuracy'])\n",
    "\n",
    "#  Define early stopping to prevent overfitting\n",
    "early_stopping = EarlyStopping(patience=10)\n",
    "\n",
    "#  Train the model using training data and validate on test data\n",
    "hist = model.fit(X_train, y_train, \n",
    "                 epochs=10, \n",
    "                 batch_size=32, \n",
    "                 verbose=1,\n",
    "                 validation_data=(X_test, y_test),\n",
    "                 callbacks=[early_stopping])  # Apply early stopping during training\n"
   ]
  },
  {
   "cell_type": "markdown",
   "metadata": {},
   "source": [
    "# Evaluate the Model on Test Data:"
   ]
  },
  {
   "cell_type": "code",
   "execution_count": null,
   "metadata": {},
   "outputs": [
    {
     "name": "stdout",
     "output_type": "stream",
     "text": [
      "\u001b[1m5/5\u001b[0m \u001b[32m━━━━━━━━━━━━━━━━━━━━\u001b[0m\u001b[37m\u001b[0m \u001b[1m0s\u001b[0m 13ms/step - accuracy: 0.7802 - loss: 0.4916\n",
      "Test Accuracy: 0.748251736164093\n"
     ]
    }
   ],
   "source": [
    "# hist=model.fit(X_train,y_train,epochs=20,batch_size=32,verbose=1)\n",
    "# Evaluate the Model on Test Data\n",
    "\n",
    "# Evaluate the trained model on the test set\n",
    "loss, accuracy = model.evaluate(X_test, y_test, verbose=1)\n",
    "\n",
    "# Print the test accuracy\n",
    "print(f\"Test Accuracy: {accuracy}\")\n"
   ]
  },
  {
   "cell_type": "code",
   "execution_count": null,
   "metadata": {},
   "outputs": [
    {
     "data": {
      "image/png": "[encoded data removed]",
      "text/plain": [
       "<Figure size 640x480 with 1 Axes>"
      ]
     },
     "metadata": {},
     "output_type": "display_data"
    }
   ],
   "source": [
    "##Plot the Training and Validation Loss\n",
    "\n",
    "# Import the required plotting library\n",
    "import matplotlib.pyplot as plt\n",
    "\n",
    "# Plot training and validation loss from the model history\n",
    "plt.plot(hist.history['loss'], label='Training Loss')\n",
    "plt.plot(hist.history['val_loss'], label='Validation Loss')\n",
    "\n",
    "# Set the title and labels of the plot\n",
    "plt.title(\"Model Loss\")\n",
    "plt.ylabel(\"Loss\")\n",
    "plt.xlabel(\"Epoch\")\n",
    "\n",
    "# Add a legend to differentiate between training and validation\n",
    "plt.legend(['Train', 'Validation'], loc='upper right')\n",
    "\n",
    "# Display the plot\n",
    "plt.show()\n"
   ]
  },
  {
   "cell_type": "markdown",
   "metadata": {},
   "source": []
  }
 ],
 "metadata": {
  "kernelspec": {
   "display_name": "base",
   "language": "python",
   "name": "python3"
  },
  "language_info": {
   "codemirror_mode": {
    "name": "ipython",
    "version": 3
   },
   "file_extension": ".py",
   "mimetype": "text/x-python",
   "name": "python",
   "nbconvert_exporter": "python",
   "pygments_lexer": "ipython3",
   "version": "3.12.9"
  }
 },
 "nbformat": 4,
 "nbformat_minor": 2
}
